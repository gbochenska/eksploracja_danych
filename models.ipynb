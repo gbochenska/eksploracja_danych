{
  "nbformat": 4,
  "nbformat_minor": 0,
  "metadata": {
    "colab": {
      "provenance": []
    },
    "kernelspec": {
      "name": "python3",
      "display_name": "Python 3"
    },
    "language_info": {
      "name": "python"
    }
  },
  "cells": [
    {
      "cell_type": "code",
      "execution_count": 1,
      "metadata": {
        "id": "8Wdt5IWrFgtY"
      },
      "outputs": [],
      "source": [
        "from sklearn.model_selection import train_test_split\n",
        "from sklearn.metrics import accuracy_score\n",
        "from sklearn.svm import SVC\n",
        "from sklearn.linear_model import LogisticRegression\n",
        "import xgboost as xgb\n",
        "import pandas as pd\n",
        "\n",
        "def train_model(dataset, model_type='svm', **kwargs):\n",
        "    \"\"\"\n",
        "    Funkcja trenująca model na podstawie podanego zbioru danych i modelu.\n",
        "\n",
        "    Args:\n",
        "        dataset: Ramka danych zawierająca cechy i etykiety.\n",
        "        model_type: Typ modelu do wytrenowania ('svm' dla SVM, 'logistic' dla regresji logistycznej, 'xgboost' dla XGBoost).\n",
        "        **kwargs: Dodatkowe argumenty przekazywane do konstruktora modelu.\n",
        "\n",
        "    Returns:\n",
        "        model: Wytrenowany model.\n",
        "        accuracy: Dokładność modelu na zestawie testowym.\n",
        "    \"\"\"\n",
        "    # Podziel ramkę danych na cechy (X) i etykiety (y)\n",
        "    X = dataset.iloc[:, :-1]\n",
        "    y = dataset.iloc[:, -1]\n",
        "\n",
        "    # Podziel dane na zestawy treningowy i testowy\n",
        "    X_train, X_test, y_train, y_test = train_test_split(X, y, test_size=0.2, random_state=42)\n",
        "\n",
        "    # Wybierz model na podstawie podanego typu\n",
        "    if model_type == 'svm':\n",
        "        model = SVC(**kwargs)\n",
        "    elif model_type == 'logistic':\n",
        "        model = LogisticRegression(**kwargs)\n",
        "    elif model_type == 'xgboost':\n",
        "        model = xgb.XGBClassifier(**kwargs)\n",
        "\n",
        "    # Trenowanie modelu na danych treningowych\n",
        "    model.fit(X_train, y_train)\n",
        "\n",
        "    # Przewidywanie na danych testowych\n",
        "    y_pred = model.predict(X_test)\n",
        "\n",
        "    # Ocenianie dokładności modelu\n",
        "    accuracy = accuracy_score(y_test, y_pred)\n",
        "\n",
        "    return model, accuracy"
      ]
    },
    {
      "cell_type": "code",
      "source": [],
      "metadata": {
        "id": "bxK4lDHAM9CT"
      },
      "execution_count": null,
      "outputs": []
    },
    {
      "cell_type": "markdown",
      "source": [
        "## Diabetes"
      ],
      "metadata": {
        "id": "c27bobQEMCRA"
      }
    },
    {
      "cell_type": "code",
      "source": [
        "# Zaimportuj dane diabetes\n",
        "diabetes = pd.read_csv(\"diabetes_data.csv\")\n",
        "\n",
        "# Wytrenuj modele SVM, regresji logistycznej i XGBoost za pomocą funkcji\n",
        "svm_model, svm_accuracy = train_model(diabetes, model_type='svm', kernel='rbf', C=1.0)\n",
        "logistic_model, logistic_accuracy = train_model(diabetes, model_type='logistic')\n",
        "xgboost_model, xgboost_accuracy = train_model(diabetes, model_type='xgboost')\n",
        "\n",
        "print(\"Dokładność modelu SVM:\", svm_accuracy)\n",
        "print(\"Dokładność modelu regresji logistycznej:\", logistic_accuracy)\n",
        "print(\"Dokładność modelu XGBoost:\", xgboost_accuracy)"
      ],
      "metadata": {
        "colab": {
          "base_uri": "https://localhost:8080/"
        },
        "id": "7QUagiqpLzdp",
        "outputId": "dc8e3ef0-96d6-45e7-b4a0-1f4522ce44db"
      },
      "execution_count": 18,
      "outputs": [
        {
          "output_type": "stream",
          "name": "stderr",
          "text": [
            "/usr/local/lib/python3.10/dist-packages/sklearn/linear_model/_logistic.py:458: ConvergenceWarning: lbfgs failed to converge (status=1):\n",
            "STOP: TOTAL NO. of ITERATIONS REACHED LIMIT.\n",
            "\n",
            "Increase the number of iterations (max_iter) or scale the data as shown in:\n",
            "    https://scikit-learn.org/stable/modules/preprocessing.html\n",
            "Please also refer to the documentation for alternative solver options:\n",
            "    https://scikit-learn.org/stable/modules/linear_model.html#logistic-regression\n",
            "  n_iter_i = _check_optimize_result(\n"
          ]
        },
        {
          "output_type": "stream",
          "name": "stdout",
          "text": [
            "Dokładność modelu SVM: 0.7482848857769291\n",
            "Dokładność modelu regresji logistycznej: 0.7440413041940731\n",
            "Dokładność modelu XGBoost: 0.7488506966546432\n"
          ]
        }
      ]
    },
    {
      "cell_type": "markdown",
      "source": [
        "## Hypertension"
      ],
      "metadata": {
        "id": "yJyFMKNAME3-"
      }
    },
    {
      "cell_type": "code",
      "source": [
        "# Zaimportuj dane hypertension\n",
        "hypertension = pd.read_csv(\"hypertension_data.csv\")\n",
        "# NaN_count = hypertension.isna().sum()\n",
        "# hypertension = hypertension.dropna()\n",
        "\n",
        "# Wytrenuj modele SVM, regresji logistycznej i XGBoost za pomocą funkcji\n",
        "svm_model, svm_accuracy = train_model(hypertension, model_type='svm', kernel='rbf', C=1.0)\n",
        "logistic_model, logistic_accuracy = train_model(hypertension, model_type='logistic')\n",
        "xgboost_model, xgboost_accuracy = train_model(hypertension, model_type='xgboost')\n",
        "\n",
        "print(\"Dokładność modelu SVM:\", svm_accuracy)\n",
        "print(\"Dokładność modelu regresji logistycznej:\", logistic_accuracy)\n",
        "print(\"Dokładność modelu XGBoost:\", xgboost_accuracy)"
      ],
      "metadata": {
        "colab": {
          "base_uri": "https://localhost:8080/"
        },
        "id": "S5nc7eKGMH1h",
        "outputId": "8b339162-ccb9-483e-a0cc-4cbc7f20127f"
      },
      "execution_count": 5,
      "outputs": [
        {
          "output_type": "stream",
          "name": "stderr",
          "text": [
            "/usr/local/lib/python3.10/dist-packages/sklearn/linear_model/_logistic.py:458: ConvergenceWarning: lbfgs failed to converge (status=1):\n",
            "STOP: TOTAL NO. of ITERATIONS REACHED LIMIT.\n",
            "\n",
            "Increase the number of iterations (max_iter) or scale the data as shown in:\n",
            "    https://scikit-learn.org/stable/modules/preprocessing.html\n",
            "Please also refer to the documentation for alternative solver options:\n",
            "    https://scikit-learn.org/stable/modules/linear_model.html#logistic-regression\n",
            "  n_iter_i = _check_optimize_result(\n"
          ]
        },
        {
          "output_type": "stream",
          "name": "stdout",
          "text": [
            "Dokładność modelu SVM: 0.7536454336147352\n",
            "Dokładność modelu regresji logistycznej: 0.8451650038372985\n",
            "Dokładność modelu XGBoost: 1.0\n"
          ]
        }
      ]
    },
    {
      "cell_type": "markdown",
      "source": [
        "## Stroke"
      ],
      "metadata": {
        "id": "nazuPt7dMIDq"
      }
    },
    {
      "cell_type": "code",
      "source": [
        "# Zaimportuj dane stroke\n",
        "stroke = pd.read_csv(\"stroke_data.csv\")\n",
        "NaN_count = stroke.isna().sum()\n",
        "stroke = stroke.dropna()\n",
        "\n",
        "# Wytrenuj modele SVM, regresji logistycznej i XGBoost za pomocą funkcji\n",
        "svm_model, svm_accuracy = train_model(stroke, model_type='svm', kernel='rbf', C=1.0)\n",
        "logistic_model, logistic_accuracy = train_model(stroke, model_type='logistic')\n",
        "xgboost_model, xgboost_accuracy = train_model(stroke, model_type='xgboost')\n",
        "\n",
        "print(\"Dokładność modelu SVM:\", svm_accuracy)\n",
        "print(\"Dokładność modelu regresji logistycznej:\", logistic_accuracy)\n",
        "print(\"Dokładność modelu XGBoost:\", xgboost_accuracy)"
      ],
      "metadata": {
        "colab": {
          "base_uri": "https://localhost:8080/"
        },
        "id": "cxmN41EKMTOo",
        "outputId": "7b95df3a-13f3-45a9-a5fc-7b1b3cbbce2d"
      },
      "execution_count": 7,
      "outputs": [
        {
          "output_type": "stream",
          "name": "stderr",
          "text": [
            "/usr/local/lib/python3.10/dist-packages/sklearn/linear_model/_logistic.py:458: ConvergenceWarning: lbfgs failed to converge (status=1):\n",
            "STOP: TOTAL NO. of ITERATIONS REACHED LIMIT.\n",
            "\n",
            "Increase the number of iterations (max_iter) or scale the data as shown in:\n",
            "    https://scikit-learn.org/stable/modules/preprocessing.html\n",
            "Please also refer to the documentation for alternative solver options:\n",
            "    https://scikit-learn.org/stable/modules/linear_model.html#logistic-regression\n",
            "  n_iter_i = _check_optimize_result(\n"
          ]
        },
        {
          "output_type": "stream",
          "name": "stdout",
          "text": [
            "Dokładność modelu SVM: 0.651185529210462\n",
            "Dokładność modelu regresji logistycznej: 0.6786849181129309\n",
            "Dokładność modelu XGBoost: 0.9973111708628697\n"
          ]
        }
      ]
    }
  ]
}