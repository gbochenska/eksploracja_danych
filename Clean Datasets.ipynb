{
 "cells": [
  {
   "cell_type": "code",
   "execution_count": 1,
   "id": "4b9822f4",
   "metadata": {},
   "outputs": [],
   "source": [
    "import numpy as np\n",
    "from scipy.stats import zscore\n",
    "import pandas as pd \n",
    "from sklearn.impute import SimpleImputer\n",
    "from sklearn.preprocessing import StandardScaler"
   ]
  },
  {
   "cell_type": "code",
   "execution_count": 16,
   "id": "a8fcb055",
   "metadata": {},
   "outputs": [],
   "source": [
    "stroke_data = pd.read_csv('stroke_data.csv')\n",
    "hypertension_data = pd.read_csv('hypertension_data.csv')\n",
    "diabetes_data = pd.read_csv('diabetes_data.csv')"
   ]
  },
  {
   "cell_type": "code",
   "execution_count": 26,
   "id": "1eacca0b",
   "metadata": {},
   "outputs": [],
   "source": [
    "def impute_missing_values(data, strategy='mean'):\n",
    "    \"\"\" Impute missing values using a specified strategy ('mean', 'median'). \"\"\"\n",
    "    imputer = SimpleImputer(strategy=strategy)\n",
    "    data[:] = imputer.fit_transform(data)\n",
    "    return data\n",
    "\n",
    "def remove_outliers_zscore(data):\n",
    "    \"\"\" Remove outliers based on the Z-score method. \"\"\"\n",
    "    z_scores = np.abs(zscore(data))\n",
    "    filtered_entries = ((z_scores < 4) | np.isnan(z_scores)).all(axis=1)\n",
    "    return data[filtered_entries]\n",
    "\n",
    "def standardize_data(data):\n",
    "    \"\"\" Standardize data to have zero mean and unit variance. \"\"\"\n",
    "    scaler = StandardScaler()\n",
    "    data = scaler.fit_transform(data)\n",
    "    return data\n",
    "\n",
    "def cleaning(data, columns, standarize = False):\n",
    "    \"\"\" Combine all functions. \"\"\"\n",
    "    data_no_missing = impute_missing_values(data, 'median')\n",
    "    data_no_outliers = remove_outliers_zscore(data_no_missing)\n",
    "    \n",
    "    if standarize:\n",
    "        standardized_data = standardize_data(data_no_outliers)\n",
    "        return pd.DataFrame(standardized_data, columns = columns)\n",
    "    \n",
    "    return pd.DataFrame(data_no_outliers, columns = columns)"
   ]
  },
  {
   "cell_type": "code",
   "execution_count": 27,
   "id": "be16ac29",
   "metadata": {},
   "outputs": [],
   "source": [
    "diabetes_clean = cleaning(diabetes_data, diabetes_data.columns)\n",
    "stroke_clean = cleaning(stroke_data, stroke_data.columns)\n",
    "hypertension_clean = cleaning(hypertension_data, hypertension_data.columns)"
   ]
  },
  {
   "cell_type": "code",
   "execution_count": 28,
   "id": "8e3a5849",
   "metadata": {},
   "outputs": [],
   "source": [
    "diabetes_clean.to_csv('diabetes_clean.csv', index = False)\n",
    "stroke_clean.to_csv('stroke_clean.csv', index = False)\n",
    "hypertension_clean.to_csv('hypertension_clean.csv', index = False)"
   ]
  },
  {
   "cell_type": "code",
   "execution_count": 29,
   "id": "d948208a",
   "metadata": {},
   "outputs": [],
   "source": [
    "stroke_clean = pd.read_csv('stroke_clean.csv')\n",
    "hypertension_clean = pd.read_csv('hypertension_clean.csv')\n",
    "diabetes_clean = pd.read_csv('diabetes_clean.csv')"
   ]
  },
  {
   "cell_type": "code",
   "execution_count": 33,
   "id": "4737603e",
   "metadata": {},
   "outputs": [
    {
     "data": {
      "text/plain": [
       "array([1.])"
      ]
     },
     "execution_count": 33,
     "metadata": {},
     "output_type": "execute_result"
    }
   ],
   "source": [
    "diabetes_clean[\"CholCheck\"].unique()"
   ]
  },
  {
   "cell_type": "code",
   "execution_count": null,
   "id": "983ebd04",
   "metadata": {},
   "outputs": [],
   "source": []
  }
 ],
 "metadata": {
  "kernelspec": {
   "display_name": "Python 3 (ipykernel)",
   "language": "python",
   "name": "python3"
  },
  "language_info": {
   "codemirror_mode": {
    "name": "ipython",
    "version": 3
   },
   "file_extension": ".py",
   "mimetype": "text/x-python",
   "name": "python",
   "nbconvert_exporter": "python",
   "pygments_lexer": "ipython3",
   "version": "3.10.14"
  }
 },
 "nbformat": 4,
 "nbformat_minor": 5
}
